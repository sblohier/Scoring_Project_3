{
 "cells": [
  {
   "cell_type": "code",
   "execution_count": 165,
   "metadata": {},
   "outputs": [],
   "source": [
    "# Importation des packages\n",
    "import numpy as np\n",
    "import pandas as pd\n",
    "import matplotlib.pyplot as plt\n",
    "from matplotlib.patches import Patch\n",
    "\n",
    "import seaborn as sns\n",
    "import re\n",
    "import json\n",
    "\n",
    "from sklearn.model_selection import train_test_split\n",
    "from sklearn.preprocessing import (\n",
    "    OneHotEncoder, OrdinalEncoder, PolynomialFeatures\n",
    ")\n",
    "from sklearn.compose import ColumnTransformer\n",
    "from sklearn.pipeline import make_pipeline, Pipeline\n",
    "\n",
    "from sklearn.metrics import (\n",
    "    mean_absolute_error, root_mean_squared_error, r2_score\n",
    ")\n",
    "\n",
    "from sklearn.linear_model import LinearRegression"
   ]
  },
  {
   "cell_type": "code",
   "execution_count": 166,
   "metadata": {},
   "outputs": [],
   "source": [
    "pd.options.display.max_columns = None #  pour afficher toutes les colonnes de la base\n",
    "pd.options.display.max_rows = None  # pour afficher toutes les lignes de la base\n",
    "pd.set_option('display.max_colwidth', None) # on ne définit pas de largeur max des colonnes afin d'éviter de tronquer leur contenu à l'affichage"
   ]
  },
  {
   "cell_type": "code",
   "execution_count": 167,
   "metadata": {},
   "outputs": [
    {
     "name": "stdout",
     "output_type": "stream",
     "text": [
      "Le df initial contenant ls données socio_demographiques contient 5158 lignes et 8 variables.\n",
      "Le df initial contenant ls services contient 5158 lignes et 28 variables.\n",
      "Le df initial contenant les status des clients contient 5158 lignes et 2 variables.\n"
     ]
    }
   ],
   "source": [
    "df_sociodemo = pd.read_csv('./data/train/df_telco_customer_churn_demographics.csv', sep=',')\n",
    "df_sociodemo.head()\n",
    "print(f\"Le df initial contenant ls données socio_demographiques contient {df_sociodemo.shape[0]} lignes et {df_sociodemo.shape[1]} variables.\")\n",
    "\n",
    "df_services = pd.read_csv('./data/train/df_telco_customer_churn_services.csv', sep=',')\n",
    "df_services.head()\n",
    "print(f\"Le df initial contenant ls services contient {df_services.shape[0]} lignes et {df_services.shape[1]} variables.\")\n",
    "\n",
    "df_churn = pd.read_csv('./data/train/df_telco_customer_churn_status.csv', sep=',')\n",
    "df_churn.head()\n",
    "print(f\"Le df initial contenant les status des clients contient {df_churn.shape[0]} lignes et {df_churn.shape[1]} variables.\")"
   ]
  },
  {
   "cell_type": "code",
   "execution_count": 168,
   "metadata": {},
   "outputs": [
    {
     "data": {
      "text/html": [
       "<div>\n",
       "<style scoped>\n",
       "    .dataframe tbody tr th:only-of-type {\n",
       "        vertical-align: middle;\n",
       "    }\n",
       "\n",
       "    .dataframe tbody tr th {\n",
       "        vertical-align: top;\n",
       "    }\n",
       "\n",
       "    .dataframe thead th {\n",
       "        text-align: right;\n",
       "    }\n",
       "</style>\n",
       "<table border=\"1\" class=\"dataframe\">\n",
       "  <thead>\n",
       "    <tr style=\"text-align: right;\">\n",
       "      <th></th>\n",
       "      <th>customer_id</th>\n",
       "      <th>referred_a_friend</th>\n",
       "      <th>number_of_referrals</th>\n",
       "      <th>tenure_in_months</th>\n",
       "      <th>offer</th>\n",
       "      <th>phone_service</th>\n",
       "      <th>avg_monthly_long_distance_charges</th>\n",
       "      <th>multiple_lines</th>\n",
       "      <th>internet_service</th>\n",
       "      <th>internet_type</th>\n",
       "      <th>avg_monthly_gb_download</th>\n",
       "      <th>online_security</th>\n",
       "      <th>online_backup</th>\n",
       "      <th>device_protection_plan</th>\n",
       "      <th>premium_tech_support</th>\n",
       "      <th>streaming_tv</th>\n",
       "      <th>streaming_movies</th>\n",
       "      <th>streaming_music</th>\n",
       "      <th>unlimited_data</th>\n",
       "      <th>contract</th>\n",
       "      <th>paperless_billing</th>\n",
       "      <th>payment_method</th>\n",
       "      <th>monthly_charge</th>\n",
       "      <th>total_charges</th>\n",
       "      <th>total_refunds</th>\n",
       "      <th>total_extra_data_charges</th>\n",
       "      <th>total_long_distance_charges</th>\n",
       "      <th>total_revenue</th>\n",
       "    </tr>\n",
       "  </thead>\n",
       "  <tbody>\n",
       "    <tr>\n",
       "      <th>2917</th>\n",
       "      <td>0002-ORFBO</td>\n",
       "      <td>Yes</td>\n",
       "      <td>2</td>\n",
       "      <td>9</td>\n",
       "      <td>NaN</td>\n",
       "      <td>Yes</td>\n",
       "      <td>42.39</td>\n",
       "      <td>No</td>\n",
       "      <td>Yes</td>\n",
       "      <td>Cable</td>\n",
       "      <td>16</td>\n",
       "      <td>No</td>\n",
       "      <td>Yes</td>\n",
       "      <td>No</td>\n",
       "      <td>Yes</td>\n",
       "      <td>Yes</td>\n",
       "      <td>No</td>\n",
       "      <td>No</td>\n",
       "      <td>Yes</td>\n",
       "      <td>One Year</td>\n",
       "      <td>Yes</td>\n",
       "      <td>Credit Card</td>\n",
       "      <td>65.6</td>\n",
       "      <td>593.30</td>\n",
       "      <td>0.00</td>\n",
       "      <td>0</td>\n",
       "      <td>381.51</td>\n",
       "      <td>974.81</td>\n",
       "    </tr>\n",
       "    <tr>\n",
       "      <th>3502</th>\n",
       "      <td>0003-MKNFE</td>\n",
       "      <td>No</td>\n",
       "      <td>0</td>\n",
       "      <td>9</td>\n",
       "      <td>NaN</td>\n",
       "      <td>Yes</td>\n",
       "      <td>10.69</td>\n",
       "      <td>Yes</td>\n",
       "      <td>Yes</td>\n",
       "      <td>Cable</td>\n",
       "      <td>10</td>\n",
       "      <td>No</td>\n",
       "      <td>No</td>\n",
       "      <td>No</td>\n",
       "      <td>No</td>\n",
       "      <td>No</td>\n",
       "      <td>Yes</td>\n",
       "      <td>Yes</td>\n",
       "      <td>No</td>\n",
       "      <td>Month-to-Month</td>\n",
       "      <td>No</td>\n",
       "      <td>Credit Card</td>\n",
       "      <td>59.9</td>\n",
       "      <td>542.40</td>\n",
       "      <td>38.33</td>\n",
       "      <td>10</td>\n",
       "      <td>96.21</td>\n",
       "      <td>610.28</td>\n",
       "    </tr>\n",
       "    <tr>\n",
       "      <th>290</th>\n",
       "      <td>0011-IGKFF</td>\n",
       "      <td>Yes</td>\n",
       "      <td>1</td>\n",
       "      <td>13</td>\n",
       "      <td>Offer D</td>\n",
       "      <td>Yes</td>\n",
       "      <td>27.82</td>\n",
       "      <td>No</td>\n",
       "      <td>Yes</td>\n",
       "      <td>Fiber Optic</td>\n",
       "      <td>4</td>\n",
       "      <td>No</td>\n",
       "      <td>Yes</td>\n",
       "      <td>Yes</td>\n",
       "      <td>No</td>\n",
       "      <td>Yes</td>\n",
       "      <td>Yes</td>\n",
       "      <td>No</td>\n",
       "      <td>Yes</td>\n",
       "      <td>Month-to-Month</td>\n",
       "      <td>Yes</td>\n",
       "      <td>Bank Withdrawal</td>\n",
       "      <td>98.0</td>\n",
       "      <td>1237.85</td>\n",
       "      <td>0.00</td>\n",
       "      <td>0</td>\n",
       "      <td>361.66</td>\n",
       "      <td>1599.51</td>\n",
       "    </tr>\n",
       "    <tr>\n",
       "      <th>265</th>\n",
       "      <td>0013-EXCHZ</td>\n",
       "      <td>Yes</td>\n",
       "      <td>3</td>\n",
       "      <td>3</td>\n",
       "      <td>NaN</td>\n",
       "      <td>Yes</td>\n",
       "      <td>7.38</td>\n",
       "      <td>No</td>\n",
       "      <td>Yes</td>\n",
       "      <td>Fiber Optic</td>\n",
       "      <td>11</td>\n",
       "      <td>No</td>\n",
       "      <td>No</td>\n",
       "      <td>No</td>\n",
       "      <td>Yes</td>\n",
       "      <td>Yes</td>\n",
       "      <td>No</td>\n",
       "      <td>No</td>\n",
       "      <td>Yes</td>\n",
       "      <td>Month-to-Month</td>\n",
       "      <td>Yes</td>\n",
       "      <td>Credit Card</td>\n",
       "      <td>83.9</td>\n",
       "      <td>267.40</td>\n",
       "      <td>0.00</td>\n",
       "      <td>0</td>\n",
       "      <td>22.14</td>\n",
       "      <td>289.54</td>\n",
       "    </tr>\n",
       "    <tr>\n",
       "      <th>2407</th>\n",
       "      <td>0013-MHZWF</td>\n",
       "      <td>No</td>\n",
       "      <td>0</td>\n",
       "      <td>9</td>\n",
       "      <td>Offer E</td>\n",
       "      <td>Yes</td>\n",
       "      <td>16.77</td>\n",
       "      <td>No</td>\n",
       "      <td>Yes</td>\n",
       "      <td>Cable</td>\n",
       "      <td>73</td>\n",
       "      <td>No</td>\n",
       "      <td>No</td>\n",
       "      <td>No</td>\n",
       "      <td>Yes</td>\n",
       "      <td>Yes</td>\n",
       "      <td>Yes</td>\n",
       "      <td>Yes</td>\n",
       "      <td>Yes</td>\n",
       "      <td>Month-to-Month</td>\n",
       "      <td>Yes</td>\n",
       "      <td>Credit Card</td>\n",
       "      <td>69.4</td>\n",
       "      <td>571.45</td>\n",
       "      <td>0.00</td>\n",
       "      <td>0</td>\n",
       "      <td>150.93</td>\n",
       "      <td>722.38</td>\n",
       "    </tr>\n",
       "  </tbody>\n",
       "</table>\n",
       "</div>"
      ],
      "text/plain": [
       "     customer_id referred_a_friend  number_of_referrals  tenure_in_months  \\\n",
       "2917  0002-ORFBO               Yes                    2                 9   \n",
       "3502  0003-MKNFE                No                    0                 9   \n",
       "290   0011-IGKFF               Yes                    1                13   \n",
       "265   0013-EXCHZ               Yes                    3                 3   \n",
       "2407  0013-MHZWF                No                    0                 9   \n",
       "\n",
       "        offer phone_service  avg_monthly_long_distance_charges multiple_lines  \\\n",
       "2917      NaN           Yes                              42.39             No   \n",
       "3502      NaN           Yes                              10.69            Yes   \n",
       "290   Offer D           Yes                              27.82             No   \n",
       "265       NaN           Yes                               7.38             No   \n",
       "2407  Offer E           Yes                              16.77             No   \n",
       "\n",
       "     internet_service internet_type  avg_monthly_gb_download online_security  \\\n",
       "2917              Yes         Cable                       16              No   \n",
       "3502              Yes         Cable                       10              No   \n",
       "290               Yes   Fiber Optic                        4              No   \n",
       "265               Yes   Fiber Optic                       11              No   \n",
       "2407              Yes         Cable                       73              No   \n",
       "\n",
       "     online_backup device_protection_plan premium_tech_support streaming_tv  \\\n",
       "2917           Yes                     No                  Yes          Yes   \n",
       "3502            No                     No                   No           No   \n",
       "290            Yes                    Yes                   No          Yes   \n",
       "265             No                     No                  Yes          Yes   \n",
       "2407            No                     No                  Yes          Yes   \n",
       "\n",
       "     streaming_movies streaming_music unlimited_data        contract  \\\n",
       "2917               No              No            Yes        One Year   \n",
       "3502              Yes             Yes             No  Month-to-Month   \n",
       "290               Yes              No            Yes  Month-to-Month   \n",
       "265                No              No            Yes  Month-to-Month   \n",
       "2407              Yes             Yes            Yes  Month-to-Month   \n",
       "\n",
       "     paperless_billing   payment_method  monthly_charge  total_charges  \\\n",
       "2917               Yes      Credit Card            65.6         593.30   \n",
       "3502                No      Credit Card            59.9         542.40   \n",
       "290                Yes  Bank Withdrawal            98.0        1237.85   \n",
       "265                Yes      Credit Card            83.9         267.40   \n",
       "2407               Yes      Credit Card            69.4         571.45   \n",
       "\n",
       "      total_refunds  total_extra_data_charges  total_long_distance_charges  \\\n",
       "2917           0.00                         0                       381.51   \n",
       "3502          38.33                        10                        96.21   \n",
       "290            0.00                         0                       361.66   \n",
       "265            0.00                         0                        22.14   \n",
       "2407           0.00                         0                       150.93   \n",
       "\n",
       "      total_revenue  \n",
       "2917         974.81  \n",
       "3502         610.28  \n",
       "290         1599.51  \n",
       "265          289.54  \n",
       "2407         722.38  "
      ]
     },
     "execution_count": 168,
     "metadata": {},
     "output_type": "execute_result"
    }
   ],
   "source": [
    "df_sociodemo.sort_values(by=\"customer_id\", inplace = True)\n",
    "df_sociodemo.head()\n",
    "df_churn.sort_values(by=\"customer_id\", inplace = True)\n",
    "df_churn.head()\n",
    "df_services.sort_values(by=\"customer_id\", inplace = True)\n",
    "df_services.head()"
   ]
  },
  {
   "cell_type": "code",
   "execution_count": 169,
   "metadata": {},
   "outputs": [
    {
     "data": {
      "text/html": [
       "<div>\n",
       "<style scoped>\n",
       "    .dataframe tbody tr th:only-of-type {\n",
       "        vertical-align: middle;\n",
       "    }\n",
       "\n",
       "    .dataframe tbody tr th {\n",
       "        vertical-align: top;\n",
       "    }\n",
       "\n",
       "    .dataframe thead th {\n",
       "        text-align: right;\n",
       "    }\n",
       "</style>\n",
       "<table border=\"1\" class=\"dataframe\">\n",
       "  <thead>\n",
       "    <tr style=\"text-align: right;\">\n",
       "      <th></th>\n",
       "      <th>customer_id</th>\n",
       "      <th>referred_a_friend</th>\n",
       "      <th>number_of_referrals</th>\n",
       "      <th>tenure_in_months</th>\n",
       "      <th>offer</th>\n",
       "      <th>phone_service</th>\n",
       "      <th>avg_monthly_long_distance_charges</th>\n",
       "      <th>multiple_lines</th>\n",
       "      <th>internet_service</th>\n",
       "      <th>internet_type</th>\n",
       "      <th>avg_monthly_gb_download</th>\n",
       "      <th>online_security</th>\n",
       "      <th>online_backup</th>\n",
       "      <th>device_protection_plan</th>\n",
       "      <th>premium_tech_support</th>\n",
       "      <th>streaming_tv</th>\n",
       "      <th>streaming_movies</th>\n",
       "      <th>streaming_music</th>\n",
       "      <th>unlimited_data</th>\n",
       "      <th>contract</th>\n",
       "      <th>paperless_billing</th>\n",
       "      <th>payment_method</th>\n",
       "      <th>monthly_charge</th>\n",
       "      <th>total_charges</th>\n",
       "      <th>total_refunds</th>\n",
       "      <th>total_extra_data_charges</th>\n",
       "      <th>total_long_distance_charges</th>\n",
       "      <th>total_revenue</th>\n",
       "    </tr>\n",
       "  </thead>\n",
       "  <tbody>\n",
       "    <tr>\n",
       "      <th>2917</th>\n",
       "      <td>0002-ORFBO</td>\n",
       "      <td>Yes</td>\n",
       "      <td>2</td>\n",
       "      <td>9</td>\n",
       "      <td>NaN</td>\n",
       "      <td>Yes</td>\n",
       "      <td>42.39</td>\n",
       "      <td>No</td>\n",
       "      <td>Yes</td>\n",
       "      <td>Cable</td>\n",
       "      <td>16</td>\n",
       "      <td>No</td>\n",
       "      <td>Yes</td>\n",
       "      <td>No</td>\n",
       "      <td>Yes</td>\n",
       "      <td>Yes</td>\n",
       "      <td>No</td>\n",
       "      <td>No</td>\n",
       "      <td>Yes</td>\n",
       "      <td>One Year</td>\n",
       "      <td>Yes</td>\n",
       "      <td>Credit Card</td>\n",
       "      <td>65.6</td>\n",
       "      <td>593.30</td>\n",
       "      <td>0.00</td>\n",
       "      <td>0</td>\n",
       "      <td>381.51</td>\n",
       "      <td>974.81</td>\n",
       "    </tr>\n",
       "    <tr>\n",
       "      <th>3502</th>\n",
       "      <td>0003-MKNFE</td>\n",
       "      <td>No</td>\n",
       "      <td>0</td>\n",
       "      <td>9</td>\n",
       "      <td>NaN</td>\n",
       "      <td>Yes</td>\n",
       "      <td>10.69</td>\n",
       "      <td>Yes</td>\n",
       "      <td>Yes</td>\n",
       "      <td>Cable</td>\n",
       "      <td>10</td>\n",
       "      <td>No</td>\n",
       "      <td>No</td>\n",
       "      <td>No</td>\n",
       "      <td>No</td>\n",
       "      <td>No</td>\n",
       "      <td>Yes</td>\n",
       "      <td>Yes</td>\n",
       "      <td>No</td>\n",
       "      <td>Month-to-Month</td>\n",
       "      <td>No</td>\n",
       "      <td>Credit Card</td>\n",
       "      <td>59.9</td>\n",
       "      <td>542.40</td>\n",
       "      <td>38.33</td>\n",
       "      <td>10</td>\n",
       "      <td>96.21</td>\n",
       "      <td>610.28</td>\n",
       "    </tr>\n",
       "    <tr>\n",
       "      <th>290</th>\n",
       "      <td>0011-IGKFF</td>\n",
       "      <td>Yes</td>\n",
       "      <td>1</td>\n",
       "      <td>13</td>\n",
       "      <td>Offer D</td>\n",
       "      <td>Yes</td>\n",
       "      <td>27.82</td>\n",
       "      <td>No</td>\n",
       "      <td>Yes</td>\n",
       "      <td>Fiber Optic</td>\n",
       "      <td>4</td>\n",
       "      <td>No</td>\n",
       "      <td>Yes</td>\n",
       "      <td>Yes</td>\n",
       "      <td>No</td>\n",
       "      <td>Yes</td>\n",
       "      <td>Yes</td>\n",
       "      <td>No</td>\n",
       "      <td>Yes</td>\n",
       "      <td>Month-to-Month</td>\n",
       "      <td>Yes</td>\n",
       "      <td>Bank Withdrawal</td>\n",
       "      <td>98.0</td>\n",
       "      <td>1237.85</td>\n",
       "      <td>0.00</td>\n",
       "      <td>0</td>\n",
       "      <td>361.66</td>\n",
       "      <td>1599.51</td>\n",
       "    </tr>\n",
       "    <tr>\n",
       "      <th>265</th>\n",
       "      <td>0013-EXCHZ</td>\n",
       "      <td>Yes</td>\n",
       "      <td>3</td>\n",
       "      <td>3</td>\n",
       "      <td>NaN</td>\n",
       "      <td>Yes</td>\n",
       "      <td>7.38</td>\n",
       "      <td>No</td>\n",
       "      <td>Yes</td>\n",
       "      <td>Fiber Optic</td>\n",
       "      <td>11</td>\n",
       "      <td>No</td>\n",
       "      <td>No</td>\n",
       "      <td>No</td>\n",
       "      <td>Yes</td>\n",
       "      <td>Yes</td>\n",
       "      <td>No</td>\n",
       "      <td>No</td>\n",
       "      <td>Yes</td>\n",
       "      <td>Month-to-Month</td>\n",
       "      <td>Yes</td>\n",
       "      <td>Credit Card</td>\n",
       "      <td>83.9</td>\n",
       "      <td>267.40</td>\n",
       "      <td>0.00</td>\n",
       "      <td>0</td>\n",
       "      <td>22.14</td>\n",
       "      <td>289.54</td>\n",
       "    </tr>\n",
       "    <tr>\n",
       "      <th>2407</th>\n",
       "      <td>0013-MHZWF</td>\n",
       "      <td>No</td>\n",
       "      <td>0</td>\n",
       "      <td>9</td>\n",
       "      <td>Offer E</td>\n",
       "      <td>Yes</td>\n",
       "      <td>16.77</td>\n",
       "      <td>No</td>\n",
       "      <td>Yes</td>\n",
       "      <td>Cable</td>\n",
       "      <td>73</td>\n",
       "      <td>No</td>\n",
       "      <td>No</td>\n",
       "      <td>No</td>\n",
       "      <td>Yes</td>\n",
       "      <td>Yes</td>\n",
       "      <td>Yes</td>\n",
       "      <td>Yes</td>\n",
       "      <td>Yes</td>\n",
       "      <td>Month-to-Month</td>\n",
       "      <td>Yes</td>\n",
       "      <td>Credit Card</td>\n",
       "      <td>69.4</td>\n",
       "      <td>571.45</td>\n",
       "      <td>0.00</td>\n",
       "      <td>0</td>\n",
       "      <td>150.93</td>\n",
       "      <td>722.38</td>\n",
       "    </tr>\n",
       "  </tbody>\n",
       "</table>\n",
       "</div>"
      ],
      "text/plain": [
       "     customer_id referred_a_friend  number_of_referrals  tenure_in_months  \\\n",
       "2917  0002-ORFBO               Yes                    2                 9   \n",
       "3502  0003-MKNFE                No                    0                 9   \n",
       "290   0011-IGKFF               Yes                    1                13   \n",
       "265   0013-EXCHZ               Yes                    3                 3   \n",
       "2407  0013-MHZWF                No                    0                 9   \n",
       "\n",
       "        offer phone_service  avg_monthly_long_distance_charges multiple_lines  \\\n",
       "2917      NaN           Yes                              42.39             No   \n",
       "3502      NaN           Yes                              10.69            Yes   \n",
       "290   Offer D           Yes                              27.82             No   \n",
       "265       NaN           Yes                               7.38             No   \n",
       "2407  Offer E           Yes                              16.77             No   \n",
       "\n",
       "     internet_service internet_type  avg_monthly_gb_download online_security  \\\n",
       "2917              Yes         Cable                       16              No   \n",
       "3502              Yes         Cable                       10              No   \n",
       "290               Yes   Fiber Optic                        4              No   \n",
       "265               Yes   Fiber Optic                       11              No   \n",
       "2407              Yes         Cable                       73              No   \n",
       "\n",
       "     online_backup device_protection_plan premium_tech_support streaming_tv  \\\n",
       "2917           Yes                     No                  Yes          Yes   \n",
       "3502            No                     No                   No           No   \n",
       "290            Yes                    Yes                   No          Yes   \n",
       "265             No                     No                  Yes          Yes   \n",
       "2407            No                     No                  Yes          Yes   \n",
       "\n",
       "     streaming_movies streaming_music unlimited_data        contract  \\\n",
       "2917               No              No            Yes        One Year   \n",
       "3502              Yes             Yes             No  Month-to-Month   \n",
       "290               Yes              No            Yes  Month-to-Month   \n",
       "265                No              No            Yes  Month-to-Month   \n",
       "2407              Yes             Yes            Yes  Month-to-Month   \n",
       "\n",
       "     paperless_billing   payment_method  monthly_charge  total_charges  \\\n",
       "2917               Yes      Credit Card            65.6         593.30   \n",
       "3502                No      Credit Card            59.9         542.40   \n",
       "290                Yes  Bank Withdrawal            98.0        1237.85   \n",
       "265                Yes      Credit Card            83.9         267.40   \n",
       "2407               Yes      Credit Card            69.4         571.45   \n",
       "\n",
       "      total_refunds  total_extra_data_charges  total_long_distance_charges  \\\n",
       "2917           0.00                         0                       381.51   \n",
       "3502          38.33                        10                        96.21   \n",
       "290            0.00                         0                       361.66   \n",
       "265            0.00                         0                        22.14   \n",
       "2407           0.00                         0                       150.93   \n",
       "\n",
       "      total_revenue  \n",
       "2917         974.81  \n",
       "3502         610.28  \n",
       "290         1599.51  \n",
       "265          289.54  \n",
       "2407         722.38  "
      ]
     },
     "execution_count": 169,
     "metadata": {},
     "output_type": "execute_result"
    }
   ],
   "source": [
    "df_services.head()"
   ]
  },
  {
   "cell_type": "code",
   "execution_count": 170,
   "metadata": {},
   "outputs": [
    {
     "name": "stdout",
     "output_type": "stream",
     "text": [
      "Le df initial contenant les status des clients contient 5158 lignes et 36 variables.\n"
     ]
    }
   ],
   "source": [
    "df = pd.merge(pd.merge(df_sociodemo, df_services, how='outer', on='customer_id',  validate='one_to_one', sort=False\n",
    "), df_churn, how='outer', on='customer_id',  validate='one_to_one', sort=False)\n",
    "print(f\"Le df initial contenant les status des clients contient {df.shape[0]} lignes et {df.shape[1]} variables.\")\n",
    "\n",
    "# Le fait de faire un merge outer vient aggreger tous les id des clients, s'il y a des doublons au niveau de l'ID alors validate signalera une erreur"
   ]
  },
  {
   "cell_type": "code",
   "execution_count": 171,
   "metadata": {},
   "outputs": [
    {
     "name": "stdout",
     "output_type": "stream",
     "text": [
      "<class 'pandas.core.frame.DataFrame'>\n",
      "RangeIndex: 5158 entries, 0 to 5157\n",
      "Data columns (total 36 columns):\n",
      " #   Column                             Non-Null Count  Dtype  \n",
      "---  ------                             --------------  -----  \n",
      " 0   customer_id                        5158 non-null   object \n",
      " 1   gender                             5158 non-null   object \n",
      " 2   age                                5158 non-null   int64  \n",
      " 3   under_30                           5158 non-null   object \n",
      " 4   senior_citizen                     5158 non-null   object \n",
      " 5   married                            5158 non-null   object \n",
      " 6   dependents                         5158 non-null   object \n",
      " 7   number_of_dependents               5158 non-null   int64  \n",
      " 8   referred_a_friend                  5158 non-null   object \n",
      " 9   number_of_referrals                5158 non-null   int64  \n",
      " 10  tenure_in_months                   5158 non-null   int64  \n",
      " 11  offer                              2310 non-null   object \n",
      " 12  phone_service                      5158 non-null   object \n",
      " 13  avg_monthly_long_distance_charges  5158 non-null   float64\n",
      " 14  multiple_lines                     5158 non-null   object \n",
      " 15  internet_service                   5158 non-null   object \n",
      " 16  internet_type                      4051 non-null   object \n",
      " 17  avg_monthly_gb_download            5158 non-null   int64  \n",
      " 18  online_security                    5158 non-null   object \n",
      " 19  online_backup                      5158 non-null   object \n",
      " 20  device_protection_plan             5158 non-null   object \n",
      " 21  premium_tech_support               5158 non-null   object \n",
      " 22  streaming_tv                       5158 non-null   object \n",
      " 23  streaming_movies                   5158 non-null   object \n",
      " 24  streaming_music                    5158 non-null   object \n",
      " 25  unlimited_data                     5158 non-null   object \n",
      " 26  contract                           5158 non-null   object \n",
      " 27  paperless_billing                  5158 non-null   object \n",
      " 28  payment_method                     5158 non-null   object \n",
      " 29  monthly_charge                     5158 non-null   float64\n",
      " 30  total_charges                      5158 non-null   float64\n",
      " 31  total_refunds                      5158 non-null   float64\n",
      " 32  total_extra_data_charges           5158 non-null   int64  \n",
      " 33  total_long_distance_charges        5158 non-null   float64\n",
      " 34  total_revenue                      5158 non-null   float64\n",
      " 35  churn_value                        5158 non-null   int64  \n",
      "dtypes: float64(6), int64(7), object(23)\n",
      "memory usage: 1.4+ MB\n"
     ]
    }
   ],
   "source": [
    "df.info()\n",
    "df.to_csv('./data/train/df_telco.csv')"
   ]
  },
  {
   "cell_type": "code",
   "execution_count": 172,
   "metadata": {},
   "outputs": [
    {
     "name": "stdout",
     "output_type": "stream",
     "text": [
      "Le dataFrame comprend : \n",
      "13 variables qualitatives  : \n",
      "['customer_id', 'gender', 'under_30', 'senior_citizen', 'married', 'dependents', 'referred_a_friend', 'offer', 'phone_service', 'multiple_lines', 'internet_service', 'internet_type', 'online_security', 'online_backup', 'device_protection_plan', 'premium_tech_support', 'streaming_tv', 'streaming_movies', 'streaming_music', 'unlimited_data', 'contract', 'paperless_billing', 'payment_method']\n",
      "23 variables quantitatives : \n",
      "['age', 'number_of_dependents', 'number_of_referrals', 'tenure_in_months', 'avg_monthly_long_distance_charges', 'avg_monthly_gb_download', 'monthly_charge', 'total_charges', 'total_refunds', 'total_extra_data_charges', 'total_long_distance_charges', 'total_revenue', 'churn_value']\n"
     ]
    }
   ],
   "source": [
    "# Affichage des variables qualitatives :\n",
    "print(f\"Le dataFrame comprend : \\n{df.select_dtypes(exclude = 'object').columns.size} variables qualitatives  : \\n{df.select_dtypes(include='object').columns.tolist()}\")\n",
    "\n",
    "# Affichage des variables quantitatives :\n",
    "print(f\"{df.select_dtypes(include='object').columns.size} variables quantitatives : \\n{df.select_dtypes(exclude='object').columns.tolist()}\")"
   ]
  },
  {
   "cell_type": "code",
   "execution_count": 173,
   "metadata": {},
   "outputs": [],
   "source": [
    "cat_cols = df.select_dtypes(include=object).columns.tolist()\n",
    "num_cols = df.select_dtypes(exclude=object).columns.tolist()\n",
    "all_cols = df.columns.tolist()"
   ]
  },
  {
   "cell_type": "code",
   "execution_count": 174,
   "metadata": {},
   "outputs": [
    {
     "name": "stdout",
     "output_type": "stream",
     "text": [
      "La variable catégorielle 'customer_id' présente 5158 catégories\n",
      "\n",
      "\n",
      "La variable catégorielle 'gender' présente 2 catégories\n",
      "['Female' 'Male']\n",
      "\n",
      "\n",
      "La variable catégorielle 'under_30' présente 2 catégories\n",
      "['No' 'Yes']\n",
      "\n",
      "\n",
      "La variable catégorielle 'senior_citizen' présente 2 catégories\n",
      "['No' 'Yes']\n",
      "\n",
      "\n",
      "La variable catégorielle 'married' présente 2 catégories\n",
      "['Yes' 'No']\n",
      "\n",
      "\n",
      "La variable catégorielle 'dependents' présente 2 catégories\n",
      "['No' 'Yes']\n",
      "\n",
      "\n",
      "La variable catégorielle 'referred_a_friend' présente 2 catégories\n",
      "['Yes' 'No']\n",
      "\n",
      "\n",
      "La variable catégorielle 'offer' présente 5 catégories\n",
      "[nan 'Offer D' 'Offer E' 'Offer A' 'Offer B' 'Offer C']\n",
      "\n",
      "\n",
      "La variable catégorielle 'phone_service' présente 2 catégories\n",
      "['Yes' 'No']\n",
      "\n",
      "\n",
      "La variable catégorielle 'multiple_lines' présente 2 catégories\n",
      "['No' 'Yes']\n",
      "\n",
      "\n",
      "La variable catégorielle 'internet_service' présente 2 catégories\n",
      "['Yes' 'No']\n",
      "\n",
      "\n",
      "La variable catégorielle 'internet_type' présente 3 catégories\n",
      "['Cable' 'Fiber Optic' 'DSL' nan]\n",
      "\n",
      "\n",
      "La variable catégorielle 'online_security' présente 2 catégories\n",
      "['No' 'Yes']\n",
      "\n",
      "\n",
      "La variable catégorielle 'online_backup' présente 2 catégories\n",
      "['Yes' 'No']\n",
      "\n",
      "\n",
      "La variable catégorielle 'device_protection_plan' présente 2 catégories\n",
      "['No' 'Yes']\n",
      "\n",
      "\n",
      "La variable catégorielle 'premium_tech_support' présente 2 catégories\n",
      "['Yes' 'No']\n",
      "\n",
      "\n",
      "La variable catégorielle 'streaming_tv' présente 2 catégories\n",
      "['Yes' 'No']\n",
      "\n",
      "\n",
      "La variable catégorielle 'streaming_movies' présente 2 catégories\n",
      "['No' 'Yes']\n",
      "\n",
      "\n",
      "La variable catégorielle 'streaming_music' présente 2 catégories\n",
      "['No' 'Yes']\n",
      "\n",
      "\n",
      "La variable catégorielle 'unlimited_data' présente 2 catégories\n",
      "['Yes' 'No']\n",
      "\n",
      "\n",
      "La variable catégorielle 'contract' présente 3 catégories\n",
      "['One Year' 'Month-to-Month' 'Two Year']\n",
      "\n",
      "\n",
      "La variable catégorielle 'paperless_billing' présente 2 catégories\n",
      "['Yes' 'No']\n",
      "\n",
      "\n",
      "La variable catégorielle 'payment_method' présente 3 catégories\n",
      "['Credit Card' 'Bank Withdrawal' 'Mailed Check']\n",
      "\n",
      "\n"
     ]
    }
   ],
   "source": [
    "for var in cat_cols :\n",
    "    print(f\"La variable catégorielle '{var}' présente {df[var].nunique()} catégories\")\n",
    "    if df[var].nunique() < 10 : \n",
    "        print(f\"{df[var].unique()}\")\n",
    "    print(\"\\n\")"
   ]
  },
  {
   "cell_type": "markdown",
   "metadata": {},
   "source": [
    "Analyse de code de départements :"
   ]
  },
  {
   "cell_type": "code",
   "execution_count": 199,
   "metadata": {},
   "outputs": [],
   "source": [
    "df[\"test\"] = df[\"customer_id\"].apply(lambda x : x.split(\"-\")[1])"
   ]
  },
  {
   "cell_type": "code",
   "execution_count": 204,
   "metadata": {},
   "outputs": [
    {
     "data": {
      "text/html": [
       "<div>\n",
       "<style scoped>\n",
       "    .dataframe tbody tr th:only-of-type {\n",
       "        vertical-align: middle;\n",
       "    }\n",
       "\n",
       "    .dataframe tbody tr th {\n",
       "        vertical-align: top;\n",
       "    }\n",
       "\n",
       "    .dataframe thead th {\n",
       "        text-align: right;\n",
       "    }\n",
       "</style>\n",
       "<table border=\"1\" class=\"dataframe\">\n",
       "  <thead>\n",
       "    <tr style=\"text-align: right;\">\n",
       "      <th></th>\n",
       "      <th>customer_id</th>\n",
       "      <th>gender</th>\n",
       "      <th>age</th>\n",
       "      <th>under_30</th>\n",
       "      <th>senior_citizen</th>\n",
       "      <th>married</th>\n",
       "      <th>dependents</th>\n",
       "      <th>number_of_dependents</th>\n",
       "      <th>referred_a_friend</th>\n",
       "      <th>number_of_referrals</th>\n",
       "      <th>tenure_in_months</th>\n",
       "      <th>offer</th>\n",
       "      <th>phone_service</th>\n",
       "      <th>avg_monthly_long_distance_charges</th>\n",
       "      <th>multiple_lines</th>\n",
       "      <th>internet_service</th>\n",
       "      <th>internet_type</th>\n",
       "      <th>avg_monthly_gb_download</th>\n",
       "      <th>online_security</th>\n",
       "      <th>online_backup</th>\n",
       "      <th>device_protection_plan</th>\n",
       "      <th>premium_tech_support</th>\n",
       "      <th>streaming_tv</th>\n",
       "      <th>streaming_movies</th>\n",
       "      <th>streaming_music</th>\n",
       "      <th>unlimited_data</th>\n",
       "      <th>contract</th>\n",
       "      <th>paperless_billing</th>\n",
       "      <th>payment_method</th>\n",
       "      <th>monthly_charge</th>\n",
       "      <th>total_charges</th>\n",
       "      <th>total_refunds</th>\n",
       "      <th>total_extra_data_charges</th>\n",
       "      <th>total_long_distance_charges</th>\n",
       "      <th>total_revenue</th>\n",
       "      <th>churn_value</th>\n",
       "      <th>monthly_charge_slo</th>\n",
       "      <th>test</th>\n",
       "    </tr>\n",
       "  </thead>\n",
       "  <tbody>\n",
       "    <tr>\n",
       "      <th>730</th>\n",
       "      <td>1431-CYWMH</td>\n",
       "      <td>Female</td>\n",
       "      <td>35</td>\n",
       "      <td>No</td>\n",
       "      <td>No</td>\n",
       "      <td>Yes</td>\n",
       "      <td>Yes</td>\n",
       "      <td>1</td>\n",
       "      <td>No</td>\n",
       "      <td>0</td>\n",
       "      <td>22</td>\n",
       "      <td>Offer D</td>\n",
       "      <td>Yes</td>\n",
       "      <td>46.45</td>\n",
       "      <td>No</td>\n",
       "      <td>No</td>\n",
       "      <td>NaN</td>\n",
       "      <td>0</td>\n",
       "      <td>No</td>\n",
       "      <td>No</td>\n",
       "      <td>No</td>\n",
       "      <td>No</td>\n",
       "      <td>No</td>\n",
       "      <td>No</td>\n",
       "      <td>No</td>\n",
       "      <td>No</td>\n",
       "      <td>Month-to-Month</td>\n",
       "      <td>No</td>\n",
       "      <td>Bank Withdrawal</td>\n",
       "      <td>19.05</td>\n",
       "      <td>454.05</td>\n",
       "      <td>0.0</td>\n",
       "      <td>0</td>\n",
       "      <td>1021.90</td>\n",
       "      <td>1475.95</td>\n",
       "      <td>0</td>\n",
       "      <td>20.638636</td>\n",
       "      <td>CYWMH</td>\n",
       "    </tr>\n",
       "    <tr>\n",
       "      <th>2272</th>\n",
       "      <td>4462-CYWMH</td>\n",
       "      <td>Male</td>\n",
       "      <td>65</td>\n",
       "      <td>No</td>\n",
       "      <td>Yes</td>\n",
       "      <td>Yes</td>\n",
       "      <td>No</td>\n",
       "      <td>0</td>\n",
       "      <td>Yes</td>\n",
       "      <td>7</td>\n",
       "      <td>62</td>\n",
       "      <td>Offer B</td>\n",
       "      <td>Yes</td>\n",
       "      <td>27.49</td>\n",
       "      <td>Yes</td>\n",
       "      <td>Yes</td>\n",
       "      <td>Fiber Optic</td>\n",
       "      <td>3</td>\n",
       "      <td>No</td>\n",
       "      <td>Yes</td>\n",
       "      <td>No</td>\n",
       "      <td>No</td>\n",
       "      <td>No</td>\n",
       "      <td>Yes</td>\n",
       "      <td>Yes</td>\n",
       "      <td>Yes</td>\n",
       "      <td>Month-to-Month</td>\n",
       "      <td>Yes</td>\n",
       "      <td>Bank Withdrawal</td>\n",
       "      <td>89.80</td>\n",
       "      <td>5629.55</td>\n",
       "      <td>0.0</td>\n",
       "      <td>0</td>\n",
       "      <td>1704.38</td>\n",
       "      <td>7333.93</td>\n",
       "      <td>0</td>\n",
       "      <td>90.799194</td>\n",
       "      <td>CYWMH</td>\n",
       "    </tr>\n",
       "  </tbody>\n",
       "</table>\n",
       "</div>"
      ],
      "text/plain": [
       "     customer_id  gender  age under_30 senior_citizen married dependents  \\\n",
       "730   1431-CYWMH  Female   35       No             No     Yes        Yes   \n",
       "2272  4462-CYWMH    Male   65       No            Yes     Yes         No   \n",
       "\n",
       "      number_of_dependents referred_a_friend  number_of_referrals  \\\n",
       "730                      1                No                    0   \n",
       "2272                     0               Yes                    7   \n",
       "\n",
       "      tenure_in_months    offer phone_service  \\\n",
       "730                 22  Offer D           Yes   \n",
       "2272                62  Offer B           Yes   \n",
       "\n",
       "      avg_monthly_long_distance_charges multiple_lines internet_service  \\\n",
       "730                               46.45             No               No   \n",
       "2272                              27.49            Yes              Yes   \n",
       "\n",
       "     internet_type  avg_monthly_gb_download online_security online_backup  \\\n",
       "730            NaN                        0              No            No   \n",
       "2272   Fiber Optic                        3              No           Yes   \n",
       "\n",
       "     device_protection_plan premium_tech_support streaming_tv  \\\n",
       "730                      No                   No           No   \n",
       "2272                     No                   No           No   \n",
       "\n",
       "     streaming_movies streaming_music unlimited_data        contract  \\\n",
       "730                No              No             No  Month-to-Month   \n",
       "2272              Yes             Yes            Yes  Month-to-Month   \n",
       "\n",
       "     paperless_billing   payment_method  monthly_charge  total_charges  \\\n",
       "730                 No  Bank Withdrawal           19.05         454.05   \n",
       "2272               Yes  Bank Withdrawal           89.80        5629.55   \n",
       "\n",
       "      total_refunds  total_extra_data_charges  total_long_distance_charges  \\\n",
       "730             0.0                         0                      1021.90   \n",
       "2272            0.0                         0                      1704.38   \n",
       "\n",
       "      total_revenue  churn_value  monthly_charge_slo   test  \n",
       "730         1475.95            0           20.638636  CYWMH  \n",
       "2272        7333.93            0           90.799194  CYWMH  "
      ]
     },
     "execution_count": 204,
     "metadata": {},
     "output_type": "execute_result"
    }
   ],
   "source": [
    "mask  = df[\"test\"]== \"CYWMH\"\n",
    "df[mask]"
   ]
  },
  {
   "cell_type": "markdown",
   "metadata": {},
   "source": [
    "Cl : les codes pays ne servent à rien et n'ont pas à être inclus dans l'étude"
   ]
  },
  {
   "cell_type": "markdown",
   "metadata": {},
   "source": [
    "Controle des doublons"
   ]
  },
  {
   "cell_type": "code",
   "execution_count": 175,
   "metadata": {},
   "outputs": [
    {
     "data": {
      "text/plain": [
       "0"
      ]
     },
     "execution_count": 175,
     "metadata": {},
     "output_type": "execute_result"
    }
   ],
   "source": [
    "df.duplicated().sum()"
   ]
  },
  {
   "cell_type": "markdown",
   "metadata": {},
   "source": [
    "Controle des valeurs manquantes :"
   ]
  },
  {
   "cell_type": "code",
   "execution_count": 176,
   "metadata": {},
   "outputs": [
    {
     "name": "stdout",
     "output_type": "stream",
     "text": [
      "0 variables quantitatives présentent des valeurs manquantes.\n",
      "offer : 2848 manquantes.\n",
      "internet_type : 1107 manquantes.\n",
      "2 variables qualitatives présentent des valeurs manquantes.\n"
     ]
    }
   ],
   "source": [
    "counter  = 0 # Initialisation d'un compteur des colonnes ayant des valeurs manquantes\n",
    "\n",
    "# Nous itérons sur toutes les variables quantitatives :\n",
    "for var in num_cols :\n",
    "    # Si une colonne présente des valeurs manquantes:\n",
    "    #  - on affiche son nom et le nombre de valeurs manquantes\n",
    "    #  - on incrémente le compteur\n",
    "\n",
    "    if (df[var].isna().sum() > 0) :\n",
    "        print(f\"{var} : {df[var].isna().sum()} manquantes.\")\n",
    "        counter += 1\n",
    "\n",
    "print(f\"{counter} variables quantitatives présentent des valeurs manquantes.\")\n",
    "\n",
    "# Nous itérons sur toutes les variables quantitatives :\n",
    "for var in cat_cols :\n",
    "    # Si une colonne présente des valeurs manquantes:\n",
    "    #  - on affiche son nom et le nombre de valeurs manquantes\n",
    "    #  - on incrémente le compteur\n",
    "\n",
    "    if (df[var].isna().sum() > 0) :\n",
    "        print(f\"{var} : {df[var].isna().sum()} manquantes.\")\n",
    "        counter += 1\n",
    "\n",
    "print(f\"{counter} variables qualitatives présentent des valeurs manquantes.\")"
   ]
  },
  {
   "cell_type": "markdown",
   "metadata": {},
   "source": [
    "Additional checks :\n",
    "** if age >= 65 --> senior_citizen = yes\n",
    "** if age <= 30 --> under_30 = yes\n",
    "** if referred_a_friend --> number_of_referrals > 0\n",
    "** check si le conjoint fait parti des dépendants\n",
    "** check si dependents = yes number_of_dependants > 0"
   ]
  },
  {
   "cell_type": "code",
   "execution_count": 177,
   "metadata": {},
   "outputs": [
    {
     "data": {
      "text/plain": [
       "0"
      ]
     },
     "execution_count": 177,
     "metadata": {},
     "output_type": "execute_result"
    }
   ],
   "source": [
    "#** if age >= 65 senior_citizen\n",
    "((df[\"age\"]>= 65) & (df[\"senior_citizen\"]==\"No\")).sum()\n"
   ]
  },
  {
   "cell_type": "code",
   "execution_count": 178,
   "metadata": {},
   "outputs": [
    {
     "data": {
      "text/plain": [
       "0"
      ]
     },
     "execution_count": 178,
     "metadata": {},
     "output_type": "execute_result"
    }
   ],
   "source": [
    "#** if age <= 30 under_30\n",
    "((df[\"age\"]< 30) & (df[\"under_30\"]==\"No\")).sum()"
   ]
  },
  {
   "cell_type": "code",
   "execution_count": 179,
   "metadata": {},
   "outputs": [
    {
     "data": {
      "text/plain": [
       "count    2827.0\n",
       "mean        0.0\n",
       "std         0.0\n",
       "min         0.0\n",
       "25%         0.0\n",
       "50%         0.0\n",
       "75%         0.0\n",
       "max         0.0\n",
       "Name: number_of_referrals, dtype: float64"
      ]
     },
     "execution_count": 179,
     "metadata": {},
     "output_type": "execute_result"
    }
   ],
   "source": [
    "# if referred_a_friend --> number_of_referrals > 0\n",
    "((df[\"referred_a_friend\"]== \"yes\") & (df[\"number_of_referrals\"]<1)).sum()\n",
    "\n",
    "mask = df[\"referred_a_friend\"]== \"No\"\n",
    "df[mask][\"number_of_referrals\"].describe()"
   ]
  },
  {
   "cell_type": "code",
   "execution_count": 180,
   "metadata": {},
   "outputs": [
    {
     "data": {
      "text/plain": [
       "count    2460.000000\n",
       "mean        0.785772\n",
       "std         1.132912\n",
       "min         0.000000\n",
       "25%         0.000000\n",
       "50%         0.000000\n",
       "75%         2.000000\n",
       "max         9.000000\n",
       "Name: number_of_dependents, dtype: float64"
      ]
     },
     "execution_count": 180,
     "metadata": {},
     "output_type": "execute_result"
    }
   ],
   "source": [
    "# check if le conjoint fait parti des dépendants\n",
    "mask = df[\"married\"] ==\"Yes\"\n",
    "df[mask][\"number_of_dependents\"].describe()\n"
   ]
  },
  {
   "cell_type": "code",
   "execution_count": 181,
   "metadata": {},
   "outputs": [
    {
     "data": {
      "text/plain": [
       "1504"
      ]
     },
     "execution_count": 181,
     "metadata": {},
     "output_type": "execute_result"
    }
   ],
   "source": [
    "mask = (df[\"married\"] ==\"Yes\") & (df[\"number_of_dependents\"]<1)\n",
    "mask.sum()\n",
    "## cl :le conjoint ne fait ps parti des dépendants"
   ]
  },
  {
   "cell_type": "code",
   "execution_count": 182,
   "metadata": {},
   "outputs": [
    {
     "data": {
      "text/plain": [
       "0"
      ]
     },
     "execution_count": 182,
     "metadata": {},
     "output_type": "execute_result"
    }
   ],
   "source": [
    "#check si dependents = yes number_of_dependants > 0\n",
    "mask = (df[\"dependents\"] == \"Yes\") & (df[\"number_of_dependents\"]<1)\n",
    "mask.sum()"
   ]
  },
  {
   "cell_type": "markdown",
   "metadata": {},
   "source": [
    "Cohérence dans les services"
   ]
  },
  {
   "cell_type": "code",
   "execution_count": 183,
   "metadata": {},
   "outputs": [
    {
     "data": {
      "text/plain": [
       "1107"
      ]
     },
     "execution_count": 183,
     "metadata": {},
     "output_type": "execute_result"
    }
   ],
   "source": [
    "# Vefification que si pas d'internet service alors le type internet est Nan\n",
    "mask = (df[\"internet_service\"] == \"No\") & (df[\"internet_type\"].isna())\n",
    "mask.sum()"
   ]
  },
  {
   "cell_type": "code",
   "execution_count": 184,
   "metadata": {},
   "outputs": [
    {
     "name": "stdout",
     "output_type": "stream",
     "text": [
      "internet_type\n",
      "Fiber Optic    2229\n",
      "DSL            1222\n",
      "Cable           600\n",
      "Name: count, dtype: int64\n",
      "4051\n"
     ]
    }
   ],
   "source": [
    "mask = (df[\"internet_service\"] == \"Yes\") \n",
    "print(df[mask][\"internet_type\"].value_counts())\n",
    "print(mask.sum())\n",
    "\n",
    "## Cl : Ok"
   ]
  },
  {
   "cell_type": "code",
   "execution_count": 185,
   "metadata": {},
   "outputs": [
    {
     "data": {
      "text/plain": [
       "count    5158.000000\n",
       "mean        0.007242\n",
       "std         2.662022\n",
       "min       -17.925000\n",
       "25%        -1.176562\n",
       "50%         0.000000\n",
       "75%         1.160768\n",
       "max        19.125000\n",
       "dtype: float64"
      ]
     },
     "execution_count": 185,
     "metadata": {},
     "output_type": "execute_result"
    }
   ],
   "source": [
    "# Vérification que total_charges / tenure in month = monthly_charge\n",
    "df[\"monthly_charge_slo\"] = df[\"total_charges\"]/df[\"tenure_in_months\"]\n",
    "(df[\"monthly_charge\"]-df[\"monthly_charge_slo\"]).describe()"
   ]
  },
  {
   "cell_type": "code",
   "execution_count": 186,
   "metadata": {},
   "outputs": [
    {
     "data": {
      "text/plain": [
       "count    5158.000000\n",
       "mean       32.205312\n",
       "std        24.571588\n",
       "min         1.000000\n",
       "25%         9.000000\n",
       "50%        29.000000\n",
       "75%        55.000000\n",
       "max        72.000000\n",
       "Name: tenure_in_months, dtype: float64"
      ]
     },
     "execution_count": 186,
     "metadata": {},
     "output_type": "execute_result"
    }
   ],
   "source": [
    "df[\"tenure_in_months\"].describe()"
   ]
  },
  {
   "cell_type": "code",
   "execution_count": 187,
   "metadata": {},
   "outputs": [
    {
     "name": "stderr",
     "output_type": "stream",
     "text": [
      "/tmp/ipykernel_7688/4134417317.py:4: SettingWithCopyWarning: \n",
      "A value is trying to be set on a copy of a slice from a DataFrame.\n",
      "Try using .loc[row_indexer,col_indexer] = value instead\n",
      "\n",
      "See the caveats in the documentation: https://pandas.pydata.org/pandas-docs/stable/user_guide/indexing.html#returning-a-view-versus-a-copy\n",
      "  a[\"monmoncha\"] = a.loc[:,\"tenure_in_months\"]*a.loc[:,\"monthly_charge\"]\n"
     ]
    }
   ],
   "source": [
    "cols = [\"tenure_in_months\", \"monthly_charge\", \"total_charges\", \"total_extra_data_charges\", \"total_long_distance_charges\", \"total_refunds\", 'total_revenue']\n",
    "a = df[cols]\n",
    "a.head( n =20)\n",
    "a[\"monmoncha\"] = a.loc[:,\"tenure_in_months\"]*a.loc[:,\"monthly_charge\"]"
   ]
  },
  {
   "cell_type": "code",
   "execution_count": 188,
   "metadata": {},
   "outputs": [
    {
     "name": "stderr",
     "output_type": "stream",
     "text": [
      "/tmp/ipykernel_7688/3376738245.py:1: SettingWithCopyWarning: \n",
      "A value is trying to be set on a copy of a slice from a DataFrame.\n",
      "Try using .loc[row_indexer,col_indexer] = value instead\n",
      "\n",
      "See the caveats in the documentation: https://pandas.pydata.org/pandas-docs/stable/user_guide/indexing.html#returning-a-view-versus-a-copy\n",
      "  a[\"total_revenue_check\"] = a.loc[:,\"total_charges\"]-a.loc[:,\"total_refunds\"]+a.loc[:,\"total_extra_data_charges\"]+a.loc[:,\"total_long_distance_charges\"]\n"
     ]
    },
    {
     "data": {
      "text/plain": [
       "count    5.158000e+03\n",
       "mean    -4.112001e-16\n",
       "std      2.887920e-13\n",
       "min     -1.818989e-12\n",
       "25%      0.000000e+00\n",
       "50%      0.000000e+00\n",
       "75%      0.000000e+00\n",
       "max      1.818989e-12\n",
       "dtype: float64"
      ]
     },
     "execution_count": 188,
     "metadata": {},
     "output_type": "execute_result"
    }
   ],
   "source": [
    "a[\"total_revenue_check\"] = a.loc[:,\"total_charges\"]-a.loc[:,\"total_refunds\"]+a.loc[:,\"total_extra_data_charges\"]+a.loc[:,\"total_long_distance_charges\"]\n",
    "(a[\"total_revenue_check\"]-a[\"total_revenue\"]).describe()"
   ]
  },
  {
   "cell_type": "markdown",
   "metadata": {},
   "source": [
    "CL : le total_revenue = total_charges + total_extra_data_charges + total_long_distance_charges - total_refunds\n"
   ]
  },
  {
   "cell_type": "markdown",
   "metadata": {},
   "source": [
    "Detail des différentes souscription :\n",
    "Offre A : "
   ]
  },
  {
   "cell_type": "code",
   "execution_count": 189,
   "metadata": {},
   "outputs": [],
   "source": [
    "col_to_look =[ \"device_protection_plan\"  , \"internet_service\" , \"multiple_lines\" , \"online_backup\" , \"online_security\", \"phone_service\", \"premium_tech_support\", \"unlimited_data\"]\n"
   ]
  },
  {
   "cell_type": "code",
   "execution_count": 190,
   "metadata": {},
   "outputs": [
    {
     "data": {
      "text/plain": [
       "array([nan, 'Offer D', 'Offer E', 'Offer A', 'Offer B', 'Offer C'],\n",
       "      dtype=object)"
      ]
     },
     "execution_count": 190,
     "metadata": {},
     "output_type": "execute_result"
    }
   ],
   "source": [
    "df[\"offer\"].unique()"
   ]
  },
  {
   "cell_type": "code",
   "execution_count": 191,
   "metadata": {},
   "outputs": [
    {
     "name": "stdout",
     "output_type": "stream",
     "text": [
      "Il y a 0 clients ayant souscrit à nan.\n",
      "Series([], Name: count, dtype: int64)\n",
      "Series([], Name: count, dtype: int64)\n",
      "Series([], Name: count, dtype: int64)\n",
      "Series([], Name: count, dtype: int64)\n",
      "Series([], Name: count, dtype: int64)\n",
      "Series([], Name: count, dtype: int64)\n",
      "Series([], Name: count, dtype: int64)\n",
      "Series([], Name: count, dtype: int64)\n",
      "Il y a 445 clients ayant souscrit à Offer D.\n",
      "device_protection_plan\n",
      "No     338\n",
      "Yes    107\n",
      "Name: count, dtype: int64\n",
      "internet_service\n",
      "Yes    332\n",
      "No     113\n",
      "Name: count, dtype: int64\n",
      "multiple_lines\n",
      "No     292\n",
      "Yes    153\n",
      "Name: count, dtype: int64\n",
      "online_backup\n",
      "No     340\n",
      "Yes    105\n",
      "Name: count, dtype: int64\n",
      "online_security\n",
      "No     358\n",
      "Yes     87\n",
      "Name: count, dtype: int64\n",
      "phone_service\n",
      "Yes    408\n",
      "No      37\n",
      "Name: count, dtype: int64\n",
      "premium_tech_support\n",
      "No     358\n",
      "Yes     87\n",
      "Name: count, dtype: int64\n",
      "unlimited_data\n",
      "Yes    283\n",
      "No     162\n",
      "Name: count, dtype: int64\n",
      "Il y a 597 clients ayant souscrit à Offer E.\n",
      "device_protection_plan\n",
      "No     509\n",
      "Yes     88\n",
      "Name: count, dtype: int64\n",
      "internet_service\n",
      "Yes    471\n",
      "No     126\n",
      "Name: count, dtype: int64\n",
      "multiple_lines\n",
      "No     471\n",
      "Yes    126\n",
      "Name: count, dtype: int64\n",
      "online_backup\n",
      "No     499\n",
      "Yes     98\n",
      "Name: count, dtype: int64\n",
      "online_security\n",
      "No     522\n",
      "Yes     75\n",
      "Name: count, dtype: int64\n",
      "phone_service\n",
      "Yes    528\n",
      "No      69\n",
      "Name: count, dtype: int64\n",
      "premium_tech_support\n",
      "No     534\n",
      "Yes     63\n",
      "Name: count, dtype: int64\n",
      "unlimited_data\n",
      "Yes    401\n",
      "No     196\n",
      "Name: count, dtype: int64\n",
      "Il y a 368 clients ayant souscrit à Offer A.\n",
      "device_protection_plan\n",
      "Yes    241\n",
      "No     127\n",
      "Name: count, dtype: int64\n",
      "internet_service\n",
      "Yes    305\n",
      "No      63\n",
      "Name: count, dtype: int64\n",
      "multiple_lines\n",
      "Yes    262\n",
      "No     106\n",
      "Name: count, dtype: int64\n",
      "online_backup\n",
      "Yes    247\n",
      "No     121\n",
      "Name: count, dtype: int64\n",
      "online_security\n",
      "Yes    209\n",
      "No     159\n",
      "Name: count, dtype: int64\n",
      "phone_service\n",
      "Yes    337\n",
      "No      31\n",
      "Name: count, dtype: int64\n",
      "premium_tech_support\n",
      "Yes    212\n",
      "No     156\n",
      "Name: count, dtype: int64\n",
      "unlimited_data\n",
      "Yes    263\n",
      "No     105\n",
      "Name: count, dtype: int64\n",
      "Il y a 590 clients ayant souscrit à Offer B.\n",
      "device_protection_plan\n",
      "No     323\n",
      "Yes    267\n",
      "Name: count, dtype: int64\n",
      "internet_service\n",
      "Yes    478\n",
      "No     112\n",
      "Name: count, dtype: int64\n",
      "multiple_lines\n",
      "Yes    333\n",
      "No     257\n",
      "Name: count, dtype: int64\n",
      "online_backup\n",
      "No     302\n",
      "Yes    288\n",
      "Name: count, dtype: int64\n",
      "online_security\n",
      "No     353\n",
      "Yes    237\n",
      "Name: count, dtype: int64\n",
      "phone_service\n",
      "Yes    538\n",
      "No      52\n",
      "Name: count, dtype: int64\n",
      "premium_tech_support\n",
      "No     368\n",
      "Yes    222\n",
      "Name: count, dtype: int64\n",
      "unlimited_data\n",
      "Yes    415\n",
      "No     175\n",
      "Name: count, dtype: int64\n",
      "Il y a 310 clients ayant souscrit à Offer C.\n",
      "device_protection_plan\n",
      "No     200\n",
      "Yes    110\n",
      "Name: count, dtype: int64\n",
      "internet_service\n",
      "Yes    250\n",
      "No      60\n",
      "Name: count, dtype: int64\n",
      "multiple_lines\n",
      "No     172\n",
      "Yes    138\n",
      "Name: count, dtype: int64\n",
      "online_backup\n",
      "No     206\n",
      "Yes    104\n",
      "Name: count, dtype: int64\n",
      "online_security\n",
      "No     229\n",
      "Yes     81\n",
      "Name: count, dtype: int64\n",
      "phone_service\n",
      "Yes    275\n",
      "No      35\n",
      "Name: count, dtype: int64\n",
      "premium_tech_support\n",
      "No     219\n",
      "Yes     91\n",
      "Name: count, dtype: int64\n",
      "unlimited_data\n",
      "Yes    223\n",
      "No      87\n",
      "Name: count, dtype: int64\n"
     ]
    }
   ],
   "source": [
    "for offre in df[\"offer\"].unique() : \n",
    "    #Offre A\n",
    "    mask  = df[\"offer\"]==offre\n",
    "    print(f\"Il y a {mask.sum()} clients ayant souscrit à {offre}.\")\n",
    "\n",
    "    for var in col_to_look : \n",
    "        print(df[mask][var].value_counts())\n"
   ]
  },
  {
   "cell_type": "code",
   "execution_count": 192,
   "metadata": {},
   "outputs": [
    {
     "name": "stdout",
     "output_type": "stream",
     "text": [
      "Il y a 2848 clients ayant souscrit à Offer C.\n",
      "device_protection_plan\n",
      "No     1915\n",
      "Yes     933\n",
      "Name: count, dtype: int64\n",
      "internet_service\n",
      "Yes    2215\n",
      "No      633\n",
      "Name: count, dtype: int64\n",
      "multiple_lines\n",
      "No     1727\n",
      "Yes    1121\n",
      "Name: count, dtype: int64\n",
      "online_backup\n",
      "No     1916\n",
      "Yes     932\n",
      "Name: count, dtype: int64\n",
      "online_security\n",
      "No     2063\n",
      "Yes     785\n",
      "Name: count, dtype: int64\n",
      "phone_service\n",
      "Yes    2568\n",
      "No      280\n",
      "Name: count, dtype: int64\n",
      "premium_tech_support\n",
      "No     2040\n",
      "Yes     808\n",
      "Name: count, dtype: int64\n",
      "unlimited_data\n",
      "Yes    1888\n",
      "No      960\n",
      "Name: count, dtype: int64\n"
     ]
    }
   ],
   "source": [
    "#Offre A\n",
    "mask  = df[\"offer\"].isna()\n",
    "print(f\"Il y a {mask.sum()} clients ayant souscrit à {offre}.\")\n",
    "\n",
    "for var in col_to_look : \n",
    "    print(df[mask][var].value_counts())\n"
   ]
  },
  {
   "cell_type": "markdown",
   "metadata": {},
   "source": [
    "Cl : Il n'y a pas de pack incluant les différents services supplemntaires dans les différentes offres proposés"
   ]
  },
  {
   "cell_type": "markdown",
   "metadata": {},
   "source": [
    "Rapport entre unimited data & avg_monthly_gb_dosnload, online_backup, streaming_movies, treaming_music, streaming_tv"
   ]
  },
  {
   "cell_type": "code",
   "execution_count": 193,
   "metadata": {},
   "outputs": [],
   "source": [
    "col_unlimited_data= [ \"streaming_movies\",\"streaming_music\",\"streaming_tv\",\"online_backup\"]"
   ]
  },
  {
   "cell_type": "code",
   "execution_count": 194,
   "metadata": {},
   "outputs": [
    {
     "name": "stdout",
     "output_type": "stream",
     "text": [
      "Il y a 3473 clients ayant un forfait illimité\n",
      "streaming_movies\n",
      "No     1767\n",
      "Yes    1706\n",
      "Name: count, dtype: int64\n",
      "streaming_music\n",
      "No     1925\n",
      "Yes    1548\n",
      "Name: count, dtype: int64\n",
      "streaming_tv\n",
      "No     1762\n",
      "Yes    1711\n",
      "Name: count, dtype: int64\n",
      "online_backup\n",
      "No     1951\n",
      "Yes    1522\n",
      "Name: count, dtype: int64\n",
      "count    3473.000000\n",
      "mean       26.286784\n",
      "std        19.629007\n",
      "min         2.000000\n",
      "25%        13.000000\n",
      "50%        21.000000\n",
      "75%        30.000000\n",
      "max        85.000000\n",
      "Name: avg_monthly_gb_download, dtype: float64\n",
      "count    5158.000000\n",
      "mean       20.671578\n",
      "std        20.506272\n",
      "min         0.000000\n",
      "25%         4.000000\n",
      "50%        17.000000\n",
      "75%        27.000000\n",
      "max        85.000000\n",
      "Name: avg_monthly_gb_download, dtype: float64\n"
     ]
    }
   ],
   "source": [
    "mask = df[\"unlimited_data\"] == \"Yes\"\n",
    "print(f\"Il y a {mask.sum()} clients ayant un forfait illimité\")\n",
    "\n",
    "for var in col_unlimited_data : \n",
    "    print(df[mask][var].value_counts())\n",
    "\n",
    "print(df[mask][\"avg_monthly_gb_download\"].describe())\n",
    "print(df[\"avg_monthly_gb_download\"].describe())"
   ]
  },
  {
   "cell_type": "markdown",
   "metadata": {},
   "source": [
    "Cl :il n'y a pas de relation claire entre la souscription d'un forfait illimté et les streaming video, music + tv + online_back_up"
   ]
  },
  {
   "cell_type": "markdown",
   "metadata": {},
   "source": [
    "On regarde le lien entre total_extra_data_charges et unlimited_data\n",
    " et"
   ]
  },
  {
   "cell_type": "code",
   "execution_count": 195,
   "metadata": {},
   "outputs": [
    {
     "data": {
      "text/plain": [
       "count    3473.0\n",
       "mean        0.0\n",
       "std         0.0\n",
       "min         0.0\n",
       "25%         0.0\n",
       "50%         0.0\n",
       "75%         0.0\n",
       "max         0.0\n",
       "Name: total_extra_data_charges, dtype: float64"
      ]
     },
     "execution_count": 195,
     "metadata": {},
     "output_type": "execute_result"
    }
   ],
   "source": [
    "df[df[\"unlimited_data\"] == \"Yes\"][\"total_extra_data_charges\"].describe()"
   ]
  },
  {
   "cell_type": "code",
   "execution_count": 196,
   "metadata": {},
   "outputs": [
    {
     "data": {
      "text/plain": [
       "count    1685.000000\n",
       "mean       20.949555\n",
       "std        40.247753\n",
       "min         0.000000\n",
       "25%         0.000000\n",
       "50%         0.000000\n",
       "75%        20.000000\n",
       "max       150.000000\n",
       "Name: total_extra_data_charges, dtype: float64"
      ]
     },
     "execution_count": 196,
     "metadata": {},
     "output_type": "execute_result"
    }
   ],
   "source": [
    "df[df[\"unlimited_data\"] == \"No\"][\"total_extra_data_charges\"].describe()"
   ]
  },
  {
   "cell_type": "markdown",
   "metadata": {},
   "source": [
    "Cl :Il semble que les clients souscrivant un abo cunlimited_data n'ont jamais avant été en dépassement.\n",
    "Alors qu'il arrive que les autres soient en dépassement."
   ]
  },
  {
   "cell_type": "markdown",
   "metadata": {},
   "source": [
    "Déséquilibre au sein de la target _ evaluation"
   ]
  },
  {
   "cell_type": "code",
   "execution_count": 197,
   "metadata": {},
   "outputs": [
    {
     "data": {
      "text/plain": [
       "churn_value\n",
       "0    3799\n",
       "1    1359\n",
       "Name: count, dtype: int64"
      ]
     },
     "execution_count": 197,
     "metadata": {},
     "output_type": "execute_result"
    }
   ],
   "source": [
    "df[\"churn_value\"].value_counts()"
   ]
  }
 ],
 "metadata": {
  "kernelspec": {
   "display_name": "env_scoring",
   "language": "python",
   "name": "python3"
  },
  "language_info": {
   "codemirror_mode": {
    "name": "ipython",
    "version": 3
   },
   "file_extension": ".py",
   "mimetype": "text/x-python",
   "name": "python",
   "nbconvert_exporter": "python",
   "pygments_lexer": "ipython3",
   "version": "3.10.12"
  }
 },
 "nbformat": 4,
 "nbformat_minor": 2
}
